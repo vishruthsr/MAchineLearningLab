{
 "cells": [
  {
   "cell_type": "code",
   "execution_count": 13,
   "id": "5997caa4",
   "metadata": {},
   "outputs": [],
   "source": [
    "import pandas as pd\n",
    "import numpy as np\n",
    "from sklearn.model_selection import train_test_split\n",
    "from sklearn import preprocessing\n",
    "from sklearn.preprocessing import StandardScaler\n",
    "from sklearn.model_selection import KFold"
   ]
  },
  {
   "cell_type": "code",
   "execution_count": 14,
   "id": "758ac8c1",
   "metadata": {},
   "outputs": [],
   "source": [
    "col_names=['Univ_Mrks','School_Mrks','Admission']\n",
    "df=pd.read_csv(r'./Student-University(For Logistic Regression Program).csv',header=None,names=col_names)"
   ]
  },
  {
   "cell_type": "code",
   "execution_count": 15,
   "id": "dc01e4df",
   "metadata": {},
   "outputs": [
    {
     "name": "stdout",
     "output_type": "stream",
     "text": [
      "    Univ_Mrks  School_Mrks  Admission\n",
      "0   34.623660    78.024693          0\n",
      "1   30.286711    43.894998          0\n",
      "2   35.847409    72.902198          0\n",
      "3   60.182599    86.308552          1\n",
      "4   79.032736    75.344376          1\n",
      "..        ...          ...        ...\n",
      "95  83.489163    48.380286          1\n",
      "96  42.261701    87.103851          1\n",
      "97  99.315009    68.775409          1\n",
      "98  55.340018    64.931938          1\n",
      "99  74.775893    89.529813          1\n",
      "\n",
      "[100 rows x 3 columns]\n"
     ]
    }
   ],
   "source": [
    "print(df)"
   ]
  },
  {
   "cell_type": "code",
   "execution_count": 16,
   "id": "e804c1b7",
   "metadata": {},
   "outputs": [],
   "source": [
    "x=df.iloc[:,[0,1]].values"
   ]
  },
  {
   "cell_type": "code",
   "execution_count": 17,
   "id": "d1bb9448",
   "metadata": {},
   "outputs": [],
   "source": [
    "y=df.iloc[:,2].values"
   ]
  },
  {
   "cell_type": "code",
   "execution_count": 9,
   "id": "7213a310",
   "metadata": {},
   "outputs": [],
   "source": [
    "p=preprocessing.scale(x)"
   ]
  },
  {
   "cell_type": "code",
   "execution_count": 18,
   "id": "d67a0db7",
   "metadata": {},
   "outputs": [],
   "source": [
    "kf=KFold(n_splits=5)"
   ]
  },
  {
   "cell_type": "code",
   "execution_count": 20,
   "id": "73b457ee",
   "metadata": {},
   "outputs": [],
   "source": [
    "for train_index,test_index in kf.split(p):\n",
    "    xtrain,xtest,ytrain,ytest=train_test_split(p,y,test_size=0.20,random_state=0)\n",
    "    x1=xtrain[:,0]\n",
    "    x2=xtrain[:,1]\n",
    "    b0=0.0\n",
    "    b1=0.0\n",
    "    b2=0.0\n",
    "    epoch=10000\n",
    "    alpha=0.001\n",
    "    while(epoch>0):\n",
    "        for i in range(len(xtrain)):\n",
    "            prediction=1/(1+np.exp(-(b0+b1*x1[i]+b2*x2[i])))\n",
    "            b0=b0+alpha*(ytrain[i]-prediction)*prediction*(1-prediction)*1.0\n",
    "            b1=b1+alpha*(ytrain[i]-prediction)*prediction*(1-prediction)*x1[i]\n",
    "            b2=b2+alpha*(ytrain[i]-prediction)*prediction*(1-prediction)*x2[i]\n",
    "            epoch=epoch-1"
   ]
  },
  {
   "cell_type": "code",
   "execution_count": 21,
   "id": "3b7a766d",
   "metadata": {},
   "outputs": [
    {
     "name": "stdout",
     "output_type": "stream",
     "text": [
      "0.16701973288386196\n",
      "0.4868177427484464\n",
      "0.4948075155845019\n"
     ]
    }
   ],
   "source": [
    "print(b0)\n",
    "print(b1)\n",
    "print(b2)"
   ]
  },
  {
   "cell_type": "code",
   "execution_count": 34,
   "id": "e056e013",
   "metadata": {},
   "outputs": [
    {
     "name": "stdout",
     "output_type": "stream",
     "text": [
      "[1 0 0 0 1 1 1 1 0 1 0 0 0 1 1 1 0 1 1 1]\n"
     ]
    }
   ],
   "source": [
    "final_prediction=[]\n",
    "x3=xtest[:,0]\n",
    "x4=xtest[:,1]\n",
    "\n",
    "print(ytest)"
   ]
  },
  {
   "cell_type": "code",
   "execution_count": 35,
   "id": "35df3b12",
   "metadata": {},
   "outputs": [],
   "source": [
    "y_pred=[0]*len(xtest)\n",
    "for i in range(len(xtest)):\n",
    "    y_pred[i]=np.round(1/(1+np.exp(-(b0+b1*x3[i]+b2*x4[i]))))\n",
    "    final_prediction.append(np.ceil(y_pred[i]))"
   ]
  },
  {
   "cell_type": "code",
   "execution_count": 36,
   "id": "adae09a7",
   "metadata": {},
   "outputs": [
    {
     "name": "stdout",
     "output_type": "stream",
     "text": [
      "[0.0, 0.0, 0.0, 0.0, 1.0, 1.0, 0.0, 1.0, 0.0, 1.0, 0.0, 0.0, 0.0, 1.0, 0.0, 1.0, 0.0, 1.0, 0.0, 1.0]\n"
     ]
    }
   ],
   "source": [
    "print(final_prediction)"
   ]
  },
  {
   "cell_type": "code",
   "execution_count": 37,
   "id": "97cc8aca",
   "metadata": {},
   "outputs": [
    {
     "name": "stdout",
     "output_type": "stream",
     "text": [
      "Accuracy 0.8\n"
     ]
    }
   ],
   "source": [
    "from sklearn.metrics import accuracy_score\n",
    "print(\"Accuracy\",accuracy_score(ytest,y_pred))"
   ]
  },
  {
   "cell_type": "code",
   "execution_count": null,
   "id": "0a26476b",
   "metadata": {},
   "outputs": [],
   "source": []
  }
 ],
 "metadata": {
  "kernelspec": {
   "display_name": "Python 3 (ipykernel)",
   "language": "python",
   "name": "python3"
  },
  "language_info": {
   "codemirror_mode": {
    "name": "ipython",
    "version": 3
   },
   "file_extension": ".py",
   "mimetype": "text/x-python",
   "name": "python",
   "nbconvert_exporter": "python",
   "pygments_lexer": "ipython3",
   "version": "3.7.11"
  }
 },
 "nbformat": 4,
 "nbformat_minor": 5
}
