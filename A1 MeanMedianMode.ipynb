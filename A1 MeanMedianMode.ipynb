{
 "cells": [
  {
   "cell_type": "code",
   "execution_count": 9,
   "metadata": {},
   "outputs": [
    {
     "data": {
      "text/plain": [
       "5.8"
      ]

     },
     "execution_count": 9,
     "metadata": {},
     "output_type": "execute_result"
    }
   ],
   "source": [
    "# Mean\n",
    "\n",
    "def meanval(arr):\n",
    "    res=0\n",
    "    for i in range(len(arr)):\n",
    "        res+=arr[i]\n",
    "        \n",
    "    \n",
    "    return res/len(arr)\n",
    "arr=[3,5,6,7,8]\n",
    "meanval(arr)\n"
   ]
  },
  {
   "cell_type": "code",
   "execution_count": 17,
   "metadata": {},
   "outputs": [
    {
     "data": {
      "text/plain": [
       "3"
      ]
     },
     "execution_count": 17,
     "metadata": {},
     "output_type": "execute_result"
    }
   ],
   "source": [
    "# Median\n",
    "\n",
    "def meadianval(arr):\n",
    "    n=len(arr)\n",
    "    if len(arr)%2 == 0:\n",
    "        return arr[int(n/2)-1]\n",
    "    else:\n",
    "        return arr[int(n/2)]\n",
    "arr=[1,2,3,4,5]\n",
    "meadianval(arr)"
   ]
  },
  {
   "cell_type": "code",
   "execution_count": 32,
   "metadata": {},
   "outputs": [
    {
     "data": {
      "text/plain": [
       "4"
      ]
     },
     "execution_count": 32,
     "metadata": {},
     "output_type": "execute_result"
    }
   ],
   "source": [
    "#Mode\n",
    "def modeval(arr):\n",
    "    a=[]\n",
    "    for i in range(len(arr)):\n",
    "        if arr[i] not in a:\n",
    "            a.append(arr[i])\n",
    "        \n",
    "        else:\n",
    "            return arr[i]\n",
    "    #return arr[i]\n",
    "    \n",
    "arr=[5,2,3,4,4]\n",
    "modeval(arr)"
   ]
  },
  {
   "cell_type": "code",
   "execution_count": 37,
   "metadata": {},
   "outputs": [
    {
     "name": "stdout",
     "output_type": "stream",
     "text": [
      "VARANCE:  2.0\n"
     ]
    }
   ],
   "source": [
    "# Varance\n",
    "def vari(arr):\n",
    "    ans = meanval(arr)\n",
    "    sum1=0\n",
    "    for i in arr:\n",
    "        sum1+=(ans-i)**2\n",
    "\n",
    "    return sum1/len(arr)   \n",
    "arr=[1,2,3,4,5]\n",
    "print(\"VARANCE: \",vari(arr))\n",
    "    "
   ]
  },
  {
   "cell_type": "code",
   "execution_count": 40,
   "metadata": {},
   "outputs": [
    {
     "name": "stdout",
     "output_type": "stream",
     "text": [
      "1.4142135623730951\n"
     ]
    }
   ],
   "source": [
    "# Std Deviation\n",
    "def sd(arr):\n",
    "    return vari(arr)**0.5\n",
    "\n",
    "arr=[1,2,3,4,5]\n",
    "print(sd(arr))\n"
   ]
  },
  {
   "cell_type": "code",
   "execution_count": 47,
   "metadata": {},
   "outputs": [
    {
     "data": {
      "text/plain": [
       "[0.0, 0.25, 0.5, 0.75, 1.0]"
      ]
     },
     "execution_count": 47,
     "metadata": {},
     "output_type": "execute_result"
    }
   ],
   "source": [
    "# Normalization\n",
    "def nor(arr):\n",
    "    a=[]\n",
    "    for i in range(len(arr)):\n",
    "        sum=((arr[i]-min(arr))/(max(arr)-min(arr)))\n",
    "        a.append(sum)\n",
    "    return a\n",
    "    \n",
    "arr=[1,2,3,4,5]\n",
    "nor(arr)\n"
   ]
  },
  {
   "cell_type": "code",
   "execution_count": null,
   "metadata": {},
   "outputs": [],
   "source": [
    "# Standardzation\n",
    "def std(arr):\n",
    "    a=[]\n",
    "    for i in range(len(arr)):\n",
    "        sum=((arr[i]-min(arr))/(max(arr)-min(arr)))\n",
    "        a.append(sum)\n",
    "    return a\n",
    "    \n",
    "arr=[1,2,3,4,5]\n",
    "std(arr)"
   ]
  },
  {
   "cell_type": "code",
   "execution_count": null,
   "metadata": {},
   "outputs": [],
   "source": []
  },
  {
   "cell_type": "code",
   "execution_count": null,
   "metadata": {},
   "outputs": [],
   "source": []
  }
 ],
 "metadata": {
  "kernelspec": {
   "display_name": "Python 3",
   "language": "python",
   "name": "python3"
  },
  "language_info": {
   "codemirror_mode": {
    "name": "ipython",
    "version": 3
   },
   "file_extension": ".py",
   "mimetype": "text/x-python",
   "name": "python",
   "nbconvert_exporter": "python",
   "pygments_lexer": "ipython3",
   "version": "3.8.10"
  }
 },
 "nbformat": 4,
 "nbformat_minor": 4
}
